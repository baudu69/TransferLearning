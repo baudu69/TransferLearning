{
 "cells": [
  {
   "cell_type": "code",
   "execution_count": 14,
   "metadata": {
    "collapsed": true
   },
   "outputs": [],
   "source": [
    "import os\n",
    "\n",
    "import matplotlib.pyplot as plt\n",
    "import seaborn as sns\n",
    "import tensorflow as tf\n",
    "import scipy\n",
    "from tensorflow.python.client import device_lib\n",
    "import tensorflow_hub as hub\n",
    "\n",
    "sns.set()\n",
    "\n",
    "import warnings\n",
    "\n",
    "warnings.filterwarnings(\"ignore\")"
   ]
  },
  {
   "cell_type": "code",
   "execution_count": 2,
   "metadata": {},
   "outputs": [
    {
     "name": "stdout",
     "output_type": "stream",
     "text": [
      "--- TEST de présence de CUDA ---\n",
      "CUDA dans Tensorflow : True\n",
      "[]\n",
      "[name: \"/device:CPU:0\"\n",
      "device_type: \"CPU\"\n",
      "memory_limit: 268435456\n",
      "locality {\n",
      "}\n",
      "incarnation: 3369248130840438748\n",
      "xla_global_id: -1\n",
      "]\n"
     ]
    },
    {
     "name": "stderr",
     "output_type": "stream",
     "text": [
      "2022-10-14 10:33:22.299525: W tensorflow/stream_executor/platform/default/dso_loader.cc:64] Could not load dynamic library 'libcuda.so.1'; dlerror: libcuda.so.1: cannot open shared object file: No such file or directory\n",
      "2022-10-14 10:33:22.299970: W tensorflow/stream_executor/cuda/cuda_driver.cc:263] failed call to cuInit: UNKNOWN ERROR (303)\n",
      "2022-10-14 10:33:22.299996: I tensorflow/stream_executor/cuda/cuda_diagnostics.cc:156] kernel driver does not appear to be running on this host (baudu-TM1701): /proc/driver/nvidia/version does not exist\n",
      "2022-10-14 10:33:22.301750: I tensorflow/core/platform/cpu_feature_guard.cc:193] This TensorFlow binary is optimized with oneAPI Deep Neural Network Library (oneDNN) to use the following CPU instructions in performance-critical operations:  AVX2 FMA\n",
      "To enable them in other operations, rebuild TensorFlow with the appropriate compiler flags.\n"
     ]
    }
   ],
   "source": [
    "print(\"--- TEST de présence de CUDA ---\")\n",
    "tensorflow_with_cuda = tf.test.is_built_with_cuda()\n",
    "print(\"CUDA dans Tensorflow : \" + str(tensorflow_with_cuda))\n",
    "print(tf.config.list_physical_devices('GPU'))\n",
    "print(device_lib.list_local_devices())"
   ]
  },
  {
   "cell_type": "code",
   "execution_count": 3,
   "metadata": {},
   "outputs": [],
   "source": [
    "pizza_dir = './pizza-not-pizza/pizza'\n",
    "not_pizza_dir = './pizza-not-pizza/not_pizza'\n",
    "data_dir = './pizza-not-pizza'"
   ]
  },
  {
   "cell_type": "code",
   "execution_count": 4,
   "metadata": {},
   "outputs": [],
   "source": [
    "epoch = 7"
   ]
  },
  {
   "cell_type": "code",
   "execution_count": 5,
   "metadata": {},
   "outputs": [
    {
     "name": "stdout",
     "output_type": "stream",
     "text": [
      "Number of Pizza images: 983\n",
      "Number of Non-Pizza images: 983\n"
     ]
    }
   ],
   "source": [
    "num_pizza_images = len(os.listdir(pizza_dir))\n",
    "non_pizza_images = len(os.listdir(not_pizza_dir))\n",
    "print(f'Number of Pizza images: {num_pizza_images}')\n",
    "print(f'Number of Non-Pizza images: {non_pizza_images}')"
   ]
  },
  {
   "cell_type": "code",
   "execution_count": 6,
   "metadata": {},
   "outputs": [
    {
     "name": "stdout",
     "output_type": "stream",
     "text": [
      "Found 1770 images belonging to 2 classes.\n",
      "Found 196 images belonging to 2 classes.\n"
     ]
    }
   ],
   "source": [
    "data_gen = tf.keras.preprocessing.image.ImageDataGenerator(rescale=1 / 255., validation_split=0.1)\n",
    "\n",
    "train_data = data_gen.flow_from_directory(data_dir,\n",
    "                                          target_size=(224, 224),\n",
    "                                          batch_size=32,\n",
    "                                          subset='training',\n",
    "                                          class_mode='binary')\n",
    "val_data = data_gen.flow_from_directory(data_dir,\n",
    "                                        target_size=(224, 224),\n",
    "                                        batch_size=32,\n",
    "                                        subset='validation',\n",
    "                                        class_mode='binary')"
   ]
  },
  {
   "cell_type": "code",
   "execution_count": 7,
   "metadata": {},
   "outputs": [],
   "source": [
    "def plot_loss_curves(history):\n",
    "    loss = history.history['loss']\n",
    "    val_loss = history.history['val_loss']\n",
    "\n",
    "    accuracy = history.history['accuracy']\n",
    "    val_accuracy = history.history['val_accuracy']\n",
    "\n",
    "    epochs = range(len(loss))\n",
    "\n",
    "    fig, ax = plt.subplots(1, 2, figsize=(20, 5))\n",
    "    ax1 = sns.lineplot(x=epochs, y=loss, label='Training Loss', ax=ax[0])\n",
    "    ax1 = sns.lineplot(x=epochs, y=val_loss, label='Test Loss', ax=ax[0])\n",
    "    ax1.set(title='Loss', xlabel='Epochs')\n",
    "\n",
    "    ax2 = sns.lineplot(x=epochs, y=accuracy, label='Training Accuracy', ax=ax[1])\n",
    "    ax2 = sns.lineplot(x=epochs, y=val_accuracy, label='Test Accuracy', ax=ax[1])\n",
    "    ax2.set(title='Accuracy', xlabel='Epochs')"
   ]
  },
  {
   "cell_type": "markdown",
   "metadata": {},
   "source": [
    "## PMC"
   ]
  },
  {
   "cell_type": "code",
   "execution_count": 8,
   "metadata": {},
   "outputs": [
    {
     "name": "stdout",
     "output_type": "stream",
     "text": [
      "Epoch 1/7\n"
     ]
    },
    {
     "name": "stderr",
     "output_type": "stream",
     "text": [
      "2022-10-14 10:07:19.963736: W tensorflow/core/framework/cpu_allocator_impl.cc:82] Allocation of 19267584 exceeds 10% of free system memory.\n",
      "2022-10-14 10:07:20.593723: W tensorflow/core/framework/cpu_allocator_impl.cc:82] Allocation of 19267584 exceeds 10% of free system memory.\n",
      "2022-10-14 10:07:20.612878: W tensorflow/core/framework/cpu_allocator_impl.cc:82] Allocation of 321126400 exceeds 10% of free system memory.\n",
      "2022-10-14 10:07:20.813607: W tensorflow/core/framework/cpu_allocator_impl.cc:82] Allocation of 321126400 exceeds 10% of free system memory.\n"
     ]
    },
    {
     "name": "stdout",
     "output_type": "stream",
     "text": [
      " 1/56 [..............................] - ETA: 1:02 - loss: 0.6946 - accuracy: 0.5312"
     ]
    },
    {
     "name": "stderr",
     "output_type": "stream",
     "text": [
      "2022-10-14 10:07:21.181091: W tensorflow/core/framework/cpu_allocator_impl.cc:82] Allocation of 321126400 exceeds 10% of free system memory.\n"
     ]
    },
    {
     "name": "stdout",
     "output_type": "stream",
     "text": [
      "56/56 [==============================] - 30s 533ms/step - loss: 13.4395 - accuracy: 0.5672 - val_loss: 1.8724 - val_accuracy: 0.6786\n",
      "Epoch 2/7\n",
      "56/56 [==============================] - 28s 506ms/step - loss: 1.3324 - accuracy: 0.6734 - val_loss: 2.4963 - val_accuracy: 0.5153\n",
      "Epoch 3/7\n",
      "56/56 [==============================] - 28s 496ms/step - loss: 1.1459 - accuracy: 0.6853 - val_loss: 3.5415 - val_accuracy: 0.5204\n",
      "Epoch 4/7\n",
      "56/56 [==============================] - 28s 498ms/step - loss: 1.1239 - accuracy: 0.7164 - val_loss: 1.6783 - val_accuracy: 0.6276\n",
      "Epoch 5/7\n",
      "56/56 [==============================] - 28s 494ms/step - loss: 0.4451 - accuracy: 0.8441 - val_loss: 1.5970 - val_accuracy: 0.6327\n",
      "Epoch 6/7\n",
      "56/56 [==============================] - 28s 508ms/step - loss: 0.3178 - accuracy: 0.8791 - val_loss: 0.9971 - val_accuracy: 0.6531\n",
      "Epoch 7/7\n",
      "56/56 [==============================] - 28s 496ms/step - loss: 0.1827 - accuracy: 0.9311 - val_loss: 0.9432 - val_accuracy: 0.6684\n"
     ]
    },
    {
     "data": {
      "text/plain": "<Figure size 2000x500 with 2 Axes>",
      "image/png": "[encoded data removed]"
     },
     "metadata": {},
     "output_type": "display_data"
    }
   ],
   "source": [
    "tf.random.set_seed(42)\n",
    "model_1 = tf.keras.Sequential([\n",
    "    tf.keras.Input(shape=(224, 224, 3)),  # Input layer\n",
    "    tf.keras.layers.Dense(50, activation='relu'),\n",
    "    tf.keras.layers.Flatten(),\n",
    "    tf.keras.layers.Dense(1, activation='sigmoid')  # Output layer\n",
    "])\n",
    "\n",
    "model_1.compile(loss=tf.losses.BinaryCrossentropy(),\n",
    "                optimizer='adam',\n",
    "                metrics=['accuracy'])\n",
    "\n",
    "history_1 = model_1.fit(train_data,\n",
    "                        epochs=epoch,\n",
    "                        steps_per_epoch=len(train_data),\n",
    "                        validation_data=val_data,\n",
    "                        validation_steps=len(val_data))\n",
    "plot_loss_curves(history_1)"
   ]
  },
  {
   "cell_type": "markdown",
   "metadata": {},
   "source": [
    "## CNN"
   ]
  },
  {
   "cell_type": "markdown",
   "metadata": {},
   "source": [
    "### Convolation sans couche cache"
   ]
  },
  {
   "cell_type": "code",
   "execution_count": null,
   "metadata": {
    "pycharm": {
     "is_executing": true
    }
   },
   "outputs": [
    {
     "name": "stdout",
     "output_type": "stream",
     "text": [
      "Epoch 1/7\n",
      "56/56 [==============================] - 49s 816ms/step - loss: 0.8161 - accuracy: 0.5791 - val_loss: 0.5852 - val_accuracy: 0.7398\n",
      "Epoch 2/7\n",
      "56/56 [==============================] - 44s 781ms/step - loss: 0.5653 - accuracy: 0.7102 - val_loss: 0.5235 - val_accuracy: 0.7602\n",
      "Epoch 3/7\n",
      "56/56 [==============================] - 52s 926ms/step - loss: 0.5302 - accuracy: 0.7345 - val_loss: 0.5491 - val_accuracy: 0.7653\n",
      "Epoch 4/7\n",
      "15/56 [=======>......................] - ETA: 1:31 - loss: 0.5069 - accuracy: 0.7625"
     ]
    }
   ],
   "source": [
    "model_2 = tf.keras.Sequential([\n",
    "    tf.keras.Input(shape=(224, 224, 3)),  # Input layer\n",
    "    tf.keras.layers.Conv2D(filters=32, kernel_size=2, padding='valid', activation='relu'),\n",
    "    tf.keras.layers.MaxPool2D(pool_size=2),\n",
    "    tf.keras.layers.Conv2D(filters=32, kernel_size=2, padding='valid', activation='relu'),\n",
    "    tf.keras.layers.MaxPool2D(pool_size=2),\n",
    "    tf.keras.layers.Flatten(),\n",
    "    tf.keras.layers.Dense(1, activation='sigmoid')  # Output layer\n",
    "])\n",
    "\n",
    "model_2.compile(loss=tf.losses.BinaryCrossentropy(),\n",
    "                optimizer='adam',\n",
    "                metrics=['accuracy'])\n",
    "\n",
    "history_2 = model_2.fit(train_data,\n",
    "                        epochs=epoch,\n",
    "                        steps_per_epoch=len(train_data),\n",
    "                        validation_data=val_data,\n",
    "                        validation_steps=len(val_data))\n",
    "plot_loss_curves(history_2)"
   ]
  },
  {
   "cell_type": "markdown",
   "metadata": {},
   "source": [
    "### Convolution avec couche cache"
   ]
  },
  {
   "cell_type": "code",
   "execution_count": null,
   "metadata": {
    "pycharm": {
     "is_executing": true
    }
   },
   "outputs": [],
   "source": [
    "model_3 = tf.keras.Sequential([\n",
    "    tf.keras.Input(shape=(224, 224, 3)),  # Input layer\n",
    "    tf.keras.layers.Conv2D(filters=32, kernel_size=2, padding='valid', activation='relu'),\n",
    "    tf.keras.layers.MaxPool2D(pool_size=2),\n",
    "    tf.keras.layers.Conv2D(filters=32, kernel_size=2, padding='valid', activation='relu'),\n",
    "    tf.keras.layers.MaxPool2D(pool_size=2),\n",
    "    tf.keras.layers.Dense(20, activation='relu'),\n",
    "    tf.keras.layers.Flatten(),\n",
    "    tf.keras.layers.Dense(1, activation='sigmoid')  # Output layer\n",
    "])\n",
    "\n",
    "model_3.compile(loss=tf.losses.BinaryCrossentropy(),\n",
    "                optimizer='adam',\n",
    "                metrics=['accuracy'])\n",
    "\n",
    "history_3 = model_3.fit(train_data,\n",
    "                        epochs=epoch,\n",
    "                        steps_per_epoch=len(train_data),\n",
    "                        validation_data=val_data,\n",
    "                        validation_steps=len(val_data))\n",
    "plot_loss_curves(history_1)"
   ]
  },
  {
   "cell_type": "markdown",
   "metadata": {},
   "source": [
    "## Data Augmentation"
   ]
  },
  {
   "cell_type": "code",
   "execution_count": null,
   "metadata": {
    "pycharm": {
     "is_executing": true
    }
   },
   "outputs": [],
   "source": [
    "# Defining data generator with Data Augmentation\n",
    "data_gen_augmented = tf.keras.preprocessing.image.ImageDataGenerator(rescale=1 / 255.,\n",
    "                                                                     validation_split=0.2,\n",
    "                                                                     zoom_range=0.2,\n",
    "                                                                     horizontal_flip=True,\n",
    "                                                                     rotation_range=20,\n",
    "                                                                     width_shift_range=0.2,\n",
    "                                                                     height_shift_range=0.2)\n",
    "\n",
    "print('Augmented training Images:')\n",
    "train_data_augmented = data_gen_augmented.flow_from_directory(data_dir,\n",
    "                                                              target_size=(224, 224),\n",
    "                                                              batch_size=32,\n",
    "                                                              subset='training',\n",
    "                                                              class_mode='binary')\n",
    "\n",
    "print('Unchanged Validation Images:')\n",
    "val_data = data_gen.flow_from_directory(data_dir,\n",
    "                                        target_size=(224, 224),\n",
    "                                        batch_size=32,\n",
    "                                        subset='validation',\n",
    "                                        class_mode='binary')"
   ]
  },
  {
   "cell_type": "markdown",
   "source": [
    "### PMC"
   ],
   "metadata": {
    "collapsed": false
   }
  },
  {
   "cell_type": "code",
   "execution_count": null,
   "outputs": [],
   "source": [
    "model_1.compile(loss=tf.losses.BinaryCrossentropy(),\n",
    "                optimizer='adam',\n",
    "                metrics=['accuracy'])\n",
    "\n",
    "history_1_1 = model_1.fit(train_data_augmented,\n",
    "                          epochs=epoch,\n",
    "                          steps_per_epoch=len(train_data_augmented),\n",
    "                          validation_data=val_data,\n",
    "                          validation_steps=len(val_data))\n",
    "print(\"Le premier graphique correspond aux données normales, le second au données augmentées\")\n",
    "plot_loss_curves(history_1)\n",
    "plot_loss_curves(history_1_1)"
   ],
   "metadata": {
    "collapsed": false,
    "pycharm": {
     "is_executing": true
    }
   }
  },
  {
   "cell_type": "markdown",
   "source": [
    "### CNN sans couche"
   ],
   "metadata": {
    "collapsed": false
   }
  },
  {
   "cell_type": "code",
   "execution_count": null,
   "outputs": [],
   "source": [
    "model_2.compile(loss=tf.losses.BinaryCrossentropy(),\n",
    "                optimizer='adam',\n",
    "                metrics=['accuracy'])\n",
    "\n",
    "history_2_1 = model_2.fit(train_data_augmented,\n",
    "                          epochs=epoch,\n",
    "                          steps_per_epoch=len(train_data_augmented),\n",
    "                          validation_data=val_data,\n",
    "                          validation_steps=len(val_data))\n",
    "\n",
    "print(\"Le premier graphique correspond aux données normales, le second au données augmentées\")\n",
    "plot_loss_curves(history_2)\n",
    "plot_loss_curves(history_2_1)"
   ],
   "metadata": {
    "collapsed": false,
    "pycharm": {
     "is_executing": true
    }
   }
  },
  {
   "cell_type": "markdown",
   "source": [
    "### CNN avec couche"
   ],
   "metadata": {
    "collapsed": false
   }
  },
  {
   "cell_type": "code",
   "execution_count": null,
   "outputs": [],
   "source": [
    "model_3.compile(loss=tf.losses.BinaryCrossentropy(),\n",
    "                optimizer='adam',\n",
    "                metrics=['accuracy'])\n",
    "\n",
    "history_3_1 = model_3.fit(train_data_augmented,\n",
    "                          epochs=epoch,\n",
    "                          steps_per_epoch=len(train_data_augmented),\n",
    "                          validation_data=val_data,\n",
    "                          validation_steps=len(val_data))\n",
    "print(\"Le premier graphique correspond aux données normales, le second au données augmentées\")\n",
    "plot_loss_curves(history_3)\n",
    "plot_loss_curves(history_3_1)"
   ],
   "metadata": {
    "collapsed": false,
    "pycharm": {
     "is_executing": true
    }
   }
  },
  {
   "cell_type": "markdown",
   "source": [
    "## Transfer Learning"
   ],
   "metadata": {
    "collapsed": false
   }
  },
  {
   "cell_type": "code",
   "execution_count": 15,
   "outputs": [
    {
     "name": "stdout",
     "output_type": "stream",
     "text": [
      "WARNING:tensorflow:Please fix your imports. Module tensorflow.python.training.tracking.data_structures has been moved to tensorflow.python.trackable.data_structures. The old module will be deleted in version 2.11.\n",
      "Epoch 1/7\n",
      "56/56 [==============================] - 422s 7s/step - loss: 0.2663 - accuracy: 0.9226 - val_loss: 0.1574 - val_accuracy: 0.9388\n",
      "Epoch 2/7\n",
      "56/56 [==============================] - 408s 7s/step - loss: 0.1207 - accuracy: 0.9593 - val_loss: 0.1387 - val_accuracy: 0.9541\n",
      "Epoch 3/7\n",
      " 9/56 [===>..........................] - ETA: 5:03 - loss: 0.1327 - accuracy: 0.9549"
     ]
    },
    {
     "name": "stderr",
     "output_type": "stream",
     "text": [
      "\n",
      "KeyboardInterrupt\n",
      "\n"
     ]
    }
   ],
   "source": [
    "url = 'https://tfhub.dev/google/efficientnet/b7/feature-vector/1'\n",
    "\n",
    "feature_extractor_layer = hub.KerasLayer(url,\n",
    "                                         trainable=False,\n",
    "                                         input_shape=(224, 224, 3))\n",
    "\n",
    "model_vgg = tf.keras.Sequential([\n",
    "    feature_extractor_layer,\n",
    "    tf.keras.layers.Dense(1, activation='sigmoid')\n",
    "])\n",
    "\n",
    "model_vgg.compile(loss=tf.losses.BinaryCrossentropy(),\n",
    "                  optimizer='adam',\n",
    "                  metrics=['accuracy'])\n",
    "\n",
    "history_vgg = model_vgg.fit(train_data,\n",
    "                            epochs=3,\n",
    "                            steps_per_epoch=len(train_data),\n",
    "                            validation_data=val_data,\n",
    "                            validation_steps=len(val_data))\n",
    "plot_loss_curves(history_vgg)\n"
   ],
   "metadata": {
    "collapsed": false
   }
  },
  {
   "cell_type": "code",
   "execution_count": null,
   "outputs": [],
   "source": [],
   "metadata": {
    "collapsed": false
   }
  },
  {
   "cell_type": "markdown",
   "source": [
    "Au bout de 3 epochs, l'apprentissage se stabilise\n",
    "Feature vectors of EfficientNet models trained on Imagenet\n"
   ],
   "metadata": {
    "collapsed": false
   }
  },
  {
   "cell_type": "code",
   "execution_count": null,
   "outputs": [
    {
     "name": "stderr",
     "output_type": "stream",
     "text": [
      "Using cache found in /home/baudu/.cache/torch/hub/ultralytics_yolov5_master\n",
      "YOLOv5 🚀 2022-10-28 Python-3.10.6 torch-1.12.1+cu102 CPU\n",
      "\n",
      "Fusing layers... \n"
     ]
    },
    {
     "name": "stdout",
     "output_type": "stream",
     "text": [
      "['./torch/old270.jpg', './torch/old680.jpg', './torch/old513.jpg', './torch/old220.jpg', './torch/old290.jpg', './torch/old9.jpg', './torch/old452.jpg', './torch/old736.jpg', './torch/old673.jpg', './torch/old676.jpg', './torch/old622.jpg', './torch/old317.jpg', './torch/old426.jpg', './torch/old380.jpg', './torch/old618.jpg', './torch/old174.jpg', './torch/old239.jpg', './torch/old189.jpg', './torch/old502.jpg', './torch/old116.jpg', './torch/old62.jpg', './torch/old216.jpg', './torch/old214.jpg', './torch/old261.jpg', './torch/old568.jpg', './torch/old690.jpg', './torch/old670.jpg', './torch/old206.jpg', './torch/old429.jpg', './torch/old641.jpg', './torch/old84.jpg', './torch/old119.jpg', './torch/old689.jpg', './torch/old296.jpg', './torch/old148.jpg', './torch/old461.jpg', './torch/old112.jpg', './torch/old19.jpg', './torch/old407.jpg', './torch/old277.jpg', './torch/old125.jpg', './torch/old623.jpg', './torch/old352.jpg', './torch/old295.jpg', './torch/old265.jpg', './torch/old715.jpg', './torch/old6.jpg', './torch/old396.jpg', './torch/old298.jpg', './torch/old708.jpg', './torch/old123.jpg', './torch/old78.jpg', './torch/old91.jpg', './torch/old7.jpg', './torch/old334.jpg', './torch/old517.jpg', './torch/old414.jpg', './torch/old729.jpg', './torch/old257.jpg', './torch/old27.jpg', './torch/old655.jpg', './torch/old132.jpg', './torch/old643.jpg', './torch/old161.jpg', './torch/old543.jpg', './torch/old236.jpg', './torch/old510.jpg', './torch/old509.jpg', './torch/old488.jpg', './torch/old274.jpg', './torch/old565.jpg', './torch/old291.jpg', './torch/old597.jpg', './torch/old703.jpg', './torch/old732.jpg', './torch/old444.jpg', './torch/old111.jpg', './torch/old528.jpg', './torch/old723.jpg', './torch/old359.jpg', './torch/old552.jpg', './torch/old718.jpg', './torch/old315.jpg', './torch/old353.jpg', './torch/old406.jpg', './torch/old34.jpg', './torch/old24.jpg', './torch/old160.jpg', './torch/old238.jpg', './torch/old108.jpg', './torch/old223.jpg', './torch/old94.jpg', './torch/old388.jpg', './torch/old665.jpg', './torch/old660.jpg', './torch/old582.jpg', './torch/old107.jpg', './torch/old482.jpg', './torch/old700.jpg', './torch/old179.jpg', './torch/old292.jpg', './torch/old192.jpg', './torch/old678.jpg', './torch/old365.jpg', './torch/old194.jpg', './torch/old389.jpg', './torch/old707.jpg', './torch/old313.jpg', './torch/old264.jpg', './torch/old311.jpg', './torch/old385.jpg', './torch/old537.jpg', './torch/old134.jpg', './torch/old448.jpg', './torch/old607.jpg', './torch/old435.jpg', './torch/old535.jpg', './torch/old230.jpg', './torch/old431.jpg', './torch/old410.jpg', './torch/old71.jpg', './torch/old208.jpg', './torch/old122.jpg', './torch/old185.jpg', './torch/old373.jpg', './torch/old719.jpg', './torch/old300.jpg', './torch/old303.jpg', './torch/old40.jpg', './torch/old590.jpg', './torch/old544.jpg', './torch/old437.jpg', './torch/old364.jpg', './torch/old612.jpg', './torch/old585.jpg', './torch/old342.jpg', './torch/old370.jpg', './torch/old201.jpg', './torch/old538.jpg', './torch/old447.jpg', './torch/old425.jpg', './torch/old172.jpg', './torch/old596.jpg', './torch/old489.jpg', './torch/old392.jpg', './torch/old43.jpg', './torch/old245.jpg', './torch/old604.jpg', './torch/old118.jpg', './torch/old634.jpg', './torch/old41.jpg', './torch/old198.jpg', './torch/old45.jpg', './torch/old69.jpg', './torch/old576.jpg', './torch/old737.jpg', './torch/old694.jpg', './torch/old79.jpg', './torch/old681.jpg', './torch/old0.jpg', './torch/old103.jpg', './torch/old363.jpg', './torch/old33.jpg', './torch/old579.jpg', './torch/old325.jpg', './torch/old652.jpg', './torch/old433.jpg', './torch/old168.jpg', './torch/old252.jpg', './torch/old692.jpg', './torch/old20.jpg', './torch/old362.jpg', './torch/old546.jpg', './torch/old61.jpg', './torch/old90.jpg', './torch/old609.jpg', './torch/old393.jpg', './torch/old188.jpg', './torch/old361.jpg', './torch/old649.jpg', './torch/old255.jpg', './torch/old92.jpg', './torch/old696.jpg', './torch/old530.jpg', './torch/old75.jpg', './torch/old279.jpg', './torch/old397.jpg', './torch/old357.jpg', './torch/old518.jpg', './torch/old468.jpg', './torch/old549.jpg', './torch/old572.jpg', './torch/old140.jpg', './torch/old611.jpg', './torch/old384.jpg', './torch/old314.jpg', './torch/old337.jpg', './torch/old505.jpg', './torch/old667.jpg', './torch/old57.jpg', './torch/old601.jpg', './torch/old152.jpg', './torch/old128.jpg', './torch/old436.jpg', './torch/old574.jpg', './torch/old276.jpg', './torch/old412.jpg', './torch/old38.jpg', './torch/old64.jpg', './torch/old635.jpg', './torch/old15.jpg', './torch/old628.jpg', './torch/old675.jpg', './torch/old349.jpg', './torch/old567.jpg', './torch/old183.jpg', './torch/old367.jpg', './torch/old554.jpg', './torch/old521.jpg', './torch/old260.jpg', './torch/old508.jpg', './torch/old524.jpg', './torch/old381.jpg', './torch/old48.jpg', './torch/old297.jpg', './torch/old580.jpg', './torch/old636.jpg', './torch/old685.jpg', './torch/old268.jpg', './torch/old663.jpg', './torch/old170.jpg', './torch/old490.jpg', './torch/old11.jpg', './torch/old63.jpg', './torch/old391.jpg', './torch/old519.jpg', './torch/old50.jpg', './torch/old712.jpg', './torch/old157.jpg', './torch/old734.jpg', './torch/old358.jpg', './torch/old446.jpg', './torch/old650.jpg', './torch/old697.jpg', './torch/old688.jpg', './torch/old419.jpg', './torch/old648.jpg', './torch/old371.jpg', './torch/old454.jpg', './torch/old228.jpg', './torch/old495.jpg', './torch/old240.jpg', './torch/old319.jpg', './torch/old475.jpg', './torch/old592.jpg', './torch/old497.jpg', './torch/old602.jpg', './torch/old18.jpg', './torch/old211.jpg', './torch/old202.jpg', './torch/old428.jpg', './torch/old129.jpg', './torch/old664.jpg', './torch/old382.jpg', './torch/old312.jpg', './torch/old44.jpg', './torch/old60.jpg', './torch/old645.jpg', './torch/old162.jpg', './torch/old666.jpg', './torch/old65.jpg', './torch/old225.jpg', './torch/old138.jpg', './torch/old321.jpg', './torch/old616.jpg', './torch/old99.jpg', './torch/old630.jpg', './torch/old569.jpg', './torch/old672.jpg', './torch/old153.jpg', './torch/old224.jpg', './torch/old467.jpg', './torch/old496.jpg', './torch/old222.jpg', './torch/old721.jpg', './torch/old287.jpg', './torch/old184.jpg', './torch/old613.jpg', './torch/old586.jpg', './torch/old197.jpg', './torch/old698.jpg', './torch/old481.jpg', './torch/old651.jpg', './torch/old46.jpg', './torch/old127.jpg', './torch/old338.jpg', './torch/old4.jpg', './torch/old143.jpg', './torch/old167.jpg', './torch/old343.jpg', './torch/old155.jpg', './torch/old215.jpg', './torch/old710.jpg', './torch/old307.jpg', './torch/old293.jpg', './torch/old28.jpg', './torch/old330.jpg', './torch/old284.jpg', './torch/old282.jpg', './torch/old316.jpg', './torch/old345.jpg', './torch/old254.jpg', './torch/old308.jpg', './torch/old310.jpg', './torch/old133.jpg', './torch/old484.jpg', './torch/old477.jpg', './torch/old86.jpg', './torch/old411.jpg', './torch/old583.jpg', './torch/old679.jpg', './torch/old486.jpg', './torch/old471.jpg', './torch/old158.jpg', './torch/old386.jpg', './torch/old531.jpg', './torch/old595.jpg', './torch/old165.jpg', './torch/old522.jpg', './torch/old248.jpg', './torch/old178.jpg', './torch/old54.jpg', './torch/old227.jpg', './torch/old250.jpg', './torch/old591.jpg', './torch/old16.jpg', './torch/old653.jpg', './torch/old59.jpg', './torch/old210.jpg', './torch/old677.jpg', './torch/old171.jpg', './torch/old442.jpg', './torch/old249.jpg', './torch/old29.jpg', './torch/old550.jpg', './torch/old629.jpg', './torch/old356.jpg', './torch/old476.jpg', './torch/old556.jpg', './torch/old451.jpg', './torch/old547.jpg', './torch/old87.jpg', './torch/old730.jpg', './torch/old674.jpg', './torch/old10.jpg', './torch/old30.jpg', './torch/old109.jpg', './torch/old17.jpg', './torch/old441.jpg', './torch/old22.jpg', './torch/old379.jpg', './torch/old658.jpg', './torch/old49.jpg', './torch/old204.jpg', './torch/old706.jpg', './torch/old427.jpg', './torch/old440.jpg', './torch/old1.jpg', './torch/old305.jpg', './torch/old456.jpg', './torch/old511.jpg', './torch/old383.jpg', './torch/old267.jpg', './torch/old12.jpg', './torch/old423.jpg', './torch/old294.jpg', './torch/old35.jpg', './torch/old469.jpg', './torch/old465.jpg', './torch/old187.jpg', './torch/old717.jpg', './torch/old93.jpg', './torch/old473.jpg', './torch/old656.jpg', './torch/old243.jpg', './torch/old149.jpg', './torch/old614.jpg', './torch/old159.jpg', './torch/old701.jpg', './torch/old539.jpg', './torch/old263.jpg', './torch/old186.jpg', './torch/old136.jpg', './torch/old735.jpg', './torch/old506.jpg', './torch/old507.jpg', './torch/old231.jpg', './torch/old699.jpg', './torch/old398.jpg', './torch/old526.jpg', './torch/old368.jpg', './torch/old540.jpg', './torch/old120.jpg', './torch/old322.jpg', './torch/old246.jpg', './torch/old449.jpg', './torch/old563.jpg', './torch/old450.jpg', './torch/old405.jpg', './torch/old695.jpg', './torch/old709.jpg', './torch/old432.jpg', './torch/old166.jpg', './torch/old534.jpg', './torch/old26.jpg', './torch/old462.jpg', './torch/old684.jpg', './torch/old377.jpg', './torch/old106.jpg', './torch/old266.jpg', './torch/old445.jpg', './torch/old360.jpg', './torch/old682.jpg', './torch/old485.jpg', './torch/old733.jpg', './torch/old577.jpg', './torch/old335.jpg', './torch/old571.jpg', './torch/old115.jpg', './torch/old375.jpg', './torch/old329.jpg', './torch/old177.jpg', './torch/old599.jpg', './torch/old589.jpg', './torch/old557.jpg', './torch/old229.jpg', './torch/old207.jpg', './torch/old640.jpg', './torch/old199.jpg', './torch/old306.jpg', './torch/old58.jpg', './torch/old588.jpg', './torch/old253.jpg', './torch/old341.jpg', './torch/old67.jpg', './torch/old639.jpg', './torch/old242.jpg', './torch/old619.jpg', './torch/old598.jpg', './torch/old720.jpg', './torch/old500.jpg', './torch/old259.jpg', './torch/old331.jpg', './torch/old273.jpg', './torch/old110.jpg', './torch/old727.jpg', './torch/old25.jpg', './torch/old705.jpg', './torch/old548.jpg', './torch/old620.jpg', './torch/old117.jpg', './torch/old247.jpg', './torch/old409.jpg', './torch/old301.jpg', './torch/old374.jpg', './torch/old251.jpg', './torch/old100.jpg', './torch/old302.jpg', './torch/old37.jpg', './torch/old669.jpg', './torch/old593.jpg', './torch/old180.jpg', './torch/old326.jpg', './torch/old420.jpg', './torch/old218.jpg', './torch/old725.jpg', './torch/old269.jpg', './torch/old724.jpg', './torch/old529.jpg', './torch/old163.jpg', './torch/old642.jpg', './torch/old494.jpg', './torch/old514.jpg', './torch/old573.jpg', './torch/old390.jpg', './torch/old232.jpg', './torch/old399.jpg', './torch/old478.jpg', './torch/old608.jpg', './torch/old289.jpg', './torch/old262.jpg', './torch/old74.jpg', './torch/old463.jpg', './torch/old102.jpg', './torch/old328.jpg', './torch/old424.jpg', './torch/old85.jpg', './torch/old53.jpg', './torch/old200.jpg', './torch/old499.jpg', './torch/old131.jpg', './torch/old169.jpg', './torch/old457.jpg', './torch/old213.jpg', './torch/old647.jpg', './torch/old402.jpg', './torch/old278.jpg', './torch/old422.jpg', './torch/old378.jpg', './torch/old332.jpg', './torch/old627.jpg', './torch/old347.jpg', './torch/old503.jpg', './torch/old711.jpg', './torch/old339.jpg', './torch/old235.jpg', './torch/old42.jpg', './torch/old453.jpg', './torch/old348.jpg', './torch/old366.jpg', './torch/old387.jpg', './torch/old51.jpg', './torch/old561.jpg', './torch/old101.jpg', './torch/old336.jpg', './torch/old346.jpg', './torch/old661.jpg', './torch/old350.jpg', './torch/old142.jpg', './torch/old731.jpg', './torch/old564.jpg', './torch/old553.jpg', './torch/old408.jpg', './torch/old512.jpg', './torch/old175.jpg', './torch/old722.jpg', './torch/old76.jpg', './torch/old668.jpg', './torch/old400.jpg', './torch/old304.jpg', './torch/old401.jpg', './torch/old610.jpg', './torch/old372.jpg', './torch/old182.jpg', './torch/old726.jpg', './torch/old176.jpg', './torch/old560.jpg', './torch/old460.jpg', './torch/old600.jpg', './torch/old327.jpg', './torch/old181.jpg', './torch/old237.jpg', './torch/old126.jpg', './torch/old82.jpg', './torch/old3.jpg', './torch/old686.jpg', './torch/old472.jpg', './torch/old455.jpg', './torch/old309.jpg', './torch/old417.jpg', './torch/old536.jpg', './torch/old244.jpg', './torch/old659.jpg', './torch/old203.jpg', './torch/old32.jpg', './torch/old479.jpg', './torch/old114.jpg', './torch/old217.jpg', './torch/old191.jpg', './torch/old72.jpg', './torch/old14.jpg', './torch/old21.jpg', './torch/old520.jpg', './torch/old13.jpg', './torch/old77.jpg', './torch/old333.jpg', './torch/old241.jpg', './torch/old713.jpg', './torch/old578.jpg', './torch/old5.jpg', './torch/old39.jpg', './torch/old464.jpg', './torch/old633.jpg', './torch/old355.jpg', './torch/old646.jpg', './torch/old98.jpg', './torch/old275.jpg', './torch/old603.jpg', './torch/old52.jpg', './torch/old97.jpg', './torch/old515.jpg', './torch/old434.jpg', './torch/old617.jpg', './torch/old545.jpg', './torch/old221.jpg', './torch/old542.jpg', './torch/old525.jpg', './torch/old226.jpg', './torch/old555.jpg', './torch/old625.jpg', './torch/old164.jpg', './torch/old288.jpg', './torch/old559.jpg', './torch/old88.jpg', './torch/old594.jpg', './torch/old523.jpg', './torch/old615.jpg', './torch/old96.jpg', './torch/old351.jpg', './torch/old527.jpg', './torch/old566.jpg', './torch/old212.jpg', './torch/old280.jpg', './torch/old474.jpg', './torch/old687.jpg', './torch/old354.jpg', './torch/old480.jpg', './torch/old466.jpg', './torch/old281.jpg', './torch/old413.jpg', './torch/old459.jpg', './torch/old504.jpg', './torch/old95.jpg', './torch/old234.jpg', './torch/old376.jpg', './torch/old344.jpg', './torch/old498.jpg', './torch/old121.jpg', './torch/old575.jpg', './torch/old487.jpg', './torch/old738.jpg', './torch/old691.jpg', './torch/old702.jpg', './torch/old551.jpg', './torch/old418.jpg', './torch/old421.jpg', './torch/old438.jpg', './torch/old416.jpg', './torch/old621.jpg', './torch/old83.jpg', './torch/old439.jpg', './torch/old657.jpg', './torch/old558.jpg', './torch/old31.jpg', './torch/old205.jpg', './torch/old631.jpg', './torch/old587.jpg', './torch/old66.jpg', './torch/old105.jpg', './torch/old283.jpg', './torch/old256.jpg', './torch/old728.jpg', './torch/old141.jpg', './torch/old2.jpg', './torch/old219.jpg', './torch/old415.jpg', './torch/old56.jpg', './torch/old395.jpg', './torch/old299.jpg', './torch/old714.jpg', './torch/old443.jpg', './torch/old154.jpg', './torch/old8.jpg', './torch/old146.jpg', './torch/old584.jpg', './torch/old323.jpg', './torch/old113.jpg', './torch/old532.jpg', './torch/old704.jpg', './torch/old570.jpg', './torch/old683.jpg', './torch/old533.jpg', './torch/old470.jpg', './torch/old233.jpg', './torch/old258.jpg', './torch/old195.jpg', './torch/old369.jpg', './torch/old562.jpg', './torch/old173.jpg', './torch/old644.jpg', './torch/old150.jpg', './torch/old209.jpg', './torch/old458.jpg', './torch/old80.jpg', './torch/old193.jpg', './torch/old89.jpg', './torch/old47.jpg', './torch/old626.jpg', './torch/old139.jpg', './torch/old324.jpg', './torch/old654.jpg', './torch/old135.jpg', './torch/old104.jpg', './torch/old624.jpg', './torch/old492.jpg', './torch/old55.jpg', './torch/old81.jpg', './torch/old144.jpg', './torch/old493.jpg', './torch/old638.jpg', './torch/old318.jpg', './torch/old541.jpg', './torch/old693.jpg', './torch/old23.jpg', './torch/old124.jpg', './torch/old483.jpg', './torch/old68.jpg', './torch/old581.jpg', './torch/old286.jpg', './torch/old606.jpg', './torch/old36.jpg', './torch/old73.jpg', './torch/old190.jpg', './torch/old196.jpg', './torch/old137.jpg', './torch/old430.jpg', './torch/old491.jpg', './torch/old130.jpg', './torch/old156.jpg', './torch/old404.jpg', './torch/old285.jpg', './torch/old501.jpg', './torch/old70.jpg', './torch/old147.jpg', './torch/old151.jpg', './torch/old271.jpg', './torch/old632.jpg', './torch/old516.jpg', './torch/old716.jpg', './torch/old272.jpg', './torch/old394.jpg', './torch/old662.jpg', './torch/old403.jpg', './torch/old320.jpg', './torch/old340.jpg', './torch/old637.jpg', './torch/old145.jpg', './torch/old605.jpg', './torch/old671.jpg']\n"
     ]
    },
    {
     "name": "stderr",
     "output_type": "stream",
     "text": [
      "YOLOv5s summary: 213 layers, 7225885 parameters, 0 gradients\n",
      "Adding AutoShape... \n"
     ]
    }
   ],
   "source": [
    "import torch\n",
    "import cv2\n",
    "\n",
    "cap = cv2.VideoCapture('https://media.ptitbiomed.fr/18013564.mp4')\n",
    "i = 0\n",
    "while cap.isOpened():\n",
    "    ret, frame = cap.read()\n",
    "    if not ret:\n",
    "        break\n",
    "    cv2.imwrite('./torch/old' + str(i) + '.jpg', frame)\n",
    "    i += 1\n",
    "\n",
    "cap.release()\n",
    "cv2.destroyAllWindows()\n",
    "\n",
    "from os import walk\n",
    "\n",
    "filenames = next(walk('./torch'), (None, None, []))[2]  # [] if no file\n",
    "filenames = [ './torch/' + x for x in filenames]\n",
    "print(filenames)\n",
    "model = torch.hub.load('ultralytics/yolov5', 'yolov5s', pretrained=True)\n",
    "\n",
    "\n",
    "results = model(filenames)\n",
    "\n",
    "results.print()\n",
    "results.show()"
   ],
   "metadata": {
    "collapsed": false,
    "pycharm": {
     "is_executing": true
    }
   }
  },
  {
   "cell_type": "code",
   "execution_count": null,
   "outputs": [],
   "source": [],
   "metadata": {
    "collapsed": false
   }
  }
 ],
 "metadata": {
  "kernelspec": {
   "display_name": "Python 3 (ipykernel)",
   "language": "python",
   "name": "python3"
  },
  "language_info": {
   "codemirror_mode": {
    "name": "ipython",
    "version": 3
   },
   "file_extension": ".py",
   "mimetype": "text/x-python",
   "name": "python",
   "nbconvert_exporter": "python",
   "pygments_lexer": "ipython3",
   "version": "3.10.2"
  }
 },
 "nbformat": 4,
 "nbformat_minor": 1
}
